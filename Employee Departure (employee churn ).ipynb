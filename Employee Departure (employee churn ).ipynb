{
 "cells": [
  {
   "cell_type": "markdown",
   "id": "378783cd-bbd8-49fc-aa97-0a79eba3b94c",
   "metadata": {},
   "source": [
    "# Objective\n",
    "Predict the risk of employee departure and identify relevant factors\n",
    "View predictions of employee departure, forecast churn rates and identify relevant factors contained in employee data\n",
    "\n",
    "# Outcome\n",
    "Models with high accuracy of predicting employee departure and identifying reasons for departure\n",
    "\n",
    "# Business Value\n",
    "Retain flight-risk talent and thereby improve per employee efficiencies\n",
    "Minimize cost of employee replacement due to backfills\n",
    "\n"
   ]
  },
  {
   "cell_type": "markdown",
   "id": "73a37c5d-5d30-49bb-933b-b9aa0a1b9c0a",
   "metadata": {},
   "source": [
    "# To achieve the objective of predicting employee departure\n",
    "# Here’s the general approach to the problem:\n",
    "\n",
    "Dataset Structure: We'll need a dataset with the following types of features:\n",
    "\n",
    "Employee ID: A unique identifier for each employee. \n",
    "\n",
    "Demographic Information: e.g., age, gender, education level.\n",
    "\n",
    "Job Information: e.g., job role, department, years at the company, salary, etc.\n",
    "\n",
    "Performance Information: e.g., performance score, promotions, awards.\n",
    "\n",
    "Work-Life Information: e.g., overtime hours, work-life balance.\n",
    "\n",
    "Target Variable: Whether the employee left the company (Yes/No)"
   ]
  },
  {
   "cell_type": "markdown",
   "id": "e78cae91-8768-414f-8496-141671e5b064",
   "metadata": {},
   "source": [
    "# Load dataset"
   ]
  },
  {
   "cell_type": "code",
   "execution_count": 1,
   "id": "f8b08734-e480-40e5-8b66-5db6e24cbd22",
   "metadata": {},
   "outputs": [],
   "source": [
    "# Import necessary libraries\n",
    "import pandas as pd\n",
    "from sklearn.model_selection import train_test_split\n",
    "from sklearn.preprocessing import LabelEncoder, StandardScaler\n",
    "from sklearn.ensemble import RandomForestClassifier\n",
    "from sklearn.metrics import accuracy_score, classification_report, confusion_matrix\n"
   ]
  },
  {
   "cell_type": "code",
   "execution_count": 2,
   "id": "beaaf8b2-5a43-4e56-bb55-64dbce0792cb",
   "metadata": {},
   "outputs": [
    {
     "data": {
      "text/html": [
       "<div>\n",
       "<style scoped>\n",
       "    .dataframe tbody tr th:only-of-type {\n",
       "        vertical-align: middle;\n",
       "    }\n",
       "\n",
       "    .dataframe tbody tr th {\n",
       "        vertical-align: top;\n",
       "    }\n",
       "\n",
       "    .dataframe thead th {\n",
       "        text-align: right;\n",
       "    }\n",
       "</style>\n",
       "<table border=\"1\" class=\"dataframe\">\n",
       "  <thead>\n",
       "    <tr style=\"text-align: right;\">\n",
       "      <th></th>\n",
       "      <th>EmployeeID</th>\n",
       "      <th>Age</th>\n",
       "      <th>Gender</th>\n",
       "      <th>JobRole</th>\n",
       "      <th>YearsAtCompany</th>\n",
       "      <th>Salary</th>\n",
       "      <th>JobSatisfaction</th>\n",
       "      <th>PerformanceScore</th>\n",
       "      <th>WorkLifeBalance</th>\n",
       "      <th>Left</th>\n",
       "    </tr>\n",
       "  </thead>\n",
       "  <tbody>\n",
       "    <tr>\n",
       "      <th>0</th>\n",
       "      <td>1</td>\n",
       "      <td>50</td>\n",
       "      <td>Female</td>\n",
       "      <td>Marketing Analyst</td>\n",
       "      <td>12</td>\n",
       "      <td>117833</td>\n",
       "      <td>5</td>\n",
       "      <td>1</td>\n",
       "      <td>4</td>\n",
       "      <td>No</td>\n",
       "    </tr>\n",
       "    <tr>\n",
       "      <th>1</th>\n",
       "      <td>2</td>\n",
       "      <td>36</td>\n",
       "      <td>Female</td>\n",
       "      <td>Product Manager</td>\n",
       "      <td>11</td>\n",
       "      <td>98810</td>\n",
       "      <td>2</td>\n",
       "      <td>3</td>\n",
       "      <td>3</td>\n",
       "      <td>No</td>\n",
       "    </tr>\n",
       "    <tr>\n",
       "      <th>2</th>\n",
       "      <td>3</td>\n",
       "      <td>29</td>\n",
       "      <td>Male</td>\n",
       "      <td>Business Intelligence Analyst</td>\n",
       "      <td>7</td>\n",
       "      <td>107323</td>\n",
       "      <td>4</td>\n",
       "      <td>5</td>\n",
       "      <td>1</td>\n",
       "      <td>No</td>\n",
       "    </tr>\n",
       "    <tr>\n",
       "      <th>3</th>\n",
       "      <td>4</td>\n",
       "      <td>42</td>\n",
       "      <td>Male</td>\n",
       "      <td>Accountant</td>\n",
       "      <td>15</td>\n",
       "      <td>47920</td>\n",
       "      <td>2</td>\n",
       "      <td>1</td>\n",
       "      <td>3</td>\n",
       "      <td>No</td>\n",
       "    </tr>\n",
       "    <tr>\n",
       "      <th>4</th>\n",
       "      <td>5</td>\n",
       "      <td>40</td>\n",
       "      <td>Female</td>\n",
       "      <td>HR Specialist</td>\n",
       "      <td>7</td>\n",
       "      <td>55719</td>\n",
       "      <td>4</td>\n",
       "      <td>1</td>\n",
       "      <td>4</td>\n",
       "      <td>No</td>\n",
       "    </tr>\n",
       "  </tbody>\n",
       "</table>\n",
       "</div>"
      ],
      "text/plain": [
       "   EmployeeID  Age  Gender                        JobRole  YearsAtCompany  \\\n",
       "0           1   50  Female              Marketing Analyst              12   \n",
       "1           2   36  Female                Product Manager              11   \n",
       "2           3   29    Male  Business Intelligence Analyst               7   \n",
       "3           4   42    Male                    Accountant               15   \n",
       "4           5   40  Female                  HR Specialist               7   \n",
       "\n",
       "   Salary  JobSatisfaction  PerformanceScore  WorkLifeBalance Left  \n",
       "0  117833                5                 1                4   No  \n",
       "1   98810                2                 3                3   No  \n",
       "2  107323                4                 5                1   No  \n",
       "3   47920                2                 1                3   No  \n",
       "4   55719                4                 1                4   No  "
      ]
     },
     "execution_count": 2,
     "metadata": {},
     "output_type": "execute_result"
    }
   ],
   "source": [
    "# Load dataset (assuming dataset is named 'employee_data.csv')\n",
    "data = pd.read_csv('employee_data.csv')\n",
    "data.head()"
   ]
  },
  {
   "cell_type": "markdown",
   "id": "41b69391-e333-4f1f-ad6e-8f9887f1e630",
   "metadata": {},
   "source": [
    "# Preprocess the data"
   ]
  },
  {
   "cell_type": "code",
   "execution_count": 3,
   "id": "66f042cd-da8c-4271-b0f8-58846948eea2",
   "metadata": {},
   "outputs": [
    {
     "data": {
      "text/html": [
       "<div>\n",
       "<style scoped>\n",
       "    .dataframe tbody tr th:only-of-type {\n",
       "        vertical-align: middle;\n",
       "    }\n",
       "\n",
       "    .dataframe tbody tr th {\n",
       "        vertical-align: top;\n",
       "    }\n",
       "\n",
       "    .dataframe thead th {\n",
       "        text-align: right;\n",
       "    }\n",
       "</style>\n",
       "<table border=\"1\" class=\"dataframe\">\n",
       "  <thead>\n",
       "    <tr style=\"text-align: right;\">\n",
       "      <th></th>\n",
       "      <th>EmployeeID</th>\n",
       "      <th>Age</th>\n",
       "      <th>Gender</th>\n",
       "      <th>JobRole</th>\n",
       "      <th>YearsAtCompany</th>\n",
       "      <th>Salary</th>\n",
       "      <th>JobSatisfaction</th>\n",
       "      <th>PerformanceScore</th>\n",
       "      <th>WorkLifeBalance</th>\n",
       "      <th>Left</th>\n",
       "    </tr>\n",
       "  </thead>\n",
       "  <tbody>\n",
       "    <tr>\n",
       "      <th>0</th>\n",
       "      <td>1</td>\n",
       "      <td>28</td>\n",
       "      <td>0</td>\n",
       "      <td>9</td>\n",
       "      <td>11</td>\n",
       "      <td>39236</td>\n",
       "      <td>4</td>\n",
       "      <td>0</td>\n",
       "      <td>3</td>\n",
       "      <td>0</td>\n",
       "    </tr>\n",
       "    <tr>\n",
       "      <th>1</th>\n",
       "      <td>2</td>\n",
       "      <td>14</td>\n",
       "      <td>0</td>\n",
       "      <td>12</td>\n",
       "      <td>10</td>\n",
       "      <td>30789</td>\n",
       "      <td>1</td>\n",
       "      <td>2</td>\n",
       "      <td>2</td>\n",
       "      <td>0</td>\n",
       "    </tr>\n",
       "    <tr>\n",
       "      <th>2</th>\n",
       "      <td>3</td>\n",
       "      <td>7</td>\n",
       "      <td>1</td>\n",
       "      <td>2</td>\n",
       "      <td>6</td>\n",
       "      <td>34570</td>\n",
       "      <td>3</td>\n",
       "      <td>4</td>\n",
       "      <td>0</td>\n",
       "      <td>0</td>\n",
       "    </tr>\n",
       "    <tr>\n",
       "      <th>3</th>\n",
       "      <td>4</td>\n",
       "      <td>20</td>\n",
       "      <td>1</td>\n",
       "      <td>0</td>\n",
       "      <td>14</td>\n",
       "      <td>7909</td>\n",
       "      <td>1</td>\n",
       "      <td>0</td>\n",
       "      <td>2</td>\n",
       "      <td>0</td>\n",
       "    </tr>\n",
       "    <tr>\n",
       "      <th>4</th>\n",
       "      <td>5</td>\n",
       "      <td>18</td>\n",
       "      <td>0</td>\n",
       "      <td>8</td>\n",
       "      <td>6</td>\n",
       "      <td>11390</td>\n",
       "      <td>3</td>\n",
       "      <td>0</td>\n",
       "      <td>3</td>\n",
       "      <td>0</td>\n",
       "    </tr>\n",
       "  </tbody>\n",
       "</table>\n",
       "</div>"
      ],
      "text/plain": [
       "   EmployeeID  Age  Gender  JobRole  YearsAtCompany  Salary  JobSatisfaction  \\\n",
       "0           1   28       0        9              11   39236                4   \n",
       "1           2   14       0       12              10   30789                1   \n",
       "2           3    7       1        2               6   34570                3   \n",
       "3           4   20       1        0              14    7909                1   \n",
       "4           5   18       0        8               6   11390                3   \n",
       "\n",
       "   PerformanceScore  WorkLifeBalance  Left  \n",
       "0                 0                3     0  \n",
       "1                 2                2     0  \n",
       "2                 4                0     0  \n",
       "3                 0                2     0  \n",
       "4                 0                3     0  "
      ]
     },
     "execution_count": 3,
     "metadata": {},
     "output_type": "execute_result"
    }
   ],
   "source": [
    "\n",
    "# Convert categorical columns to numeric using Label Encoding\n",
    "label_encoder = LabelEncoder()\n",
    "data['Gender'] = label_encoder.fit_transform(data['Gender'])\n",
    "data['JobRole'] = label_encoder.fit_transform(data['JobRole'])\n",
    "data['YearsAtCompany'] = label_encoder.fit_transform(data['YearsAtCompany'])\n",
    "data['Salary'] = label_encoder.fit_transform(data['Salary'])\n",
    "data['JobSatisfaction'] = label_encoder.fit_transform(data['JobSatisfaction'])\n",
    "data['PerformanceScore'] = label_encoder.fit_transform(data['PerformanceScore'])\n",
    "data['WorkLifeBalance'] = label_encoder.fit_transform(data['WorkLifeBalance'])\n",
    "data['Age'] = label_encoder.fit_transform(data['Age'])\n",
    "data['Left'] = label_encoder.fit_transform(data['Left'])  # Convert target column to 0 (No) and 1 (Yes)\n",
    "\n",
    "# Separate features and target\n",
    "X = data.drop(['Left', 'EmployeeID'], axis=1)  # Drop EmployeeID and target\n",
    "y = data['Left']  # Target variable (employee departure)\n",
    "\n",
    "# Scale the features\n",
    "scaler = StandardScaler()\n",
    "X_scaled = scaler.fit_transform(X)\n",
    "\n",
    "data.head()"
   ]
  },
  {
   "cell_type": "markdown",
   "id": "4edb566c-342e-4f3f-853d-9d1bd9d0118d",
   "metadata": {},
   "source": [
    "# Random Forest model"
   ]
  },
  {
   "cell_type": "code",
   "execution_count": null,
   "id": "3d05d09e-6402-4aac-ada7-b8a89ec34a4a",
   "metadata": {},
   "outputs": [],
   "source": [
    "# Split data into training and test sets\n",
    "X_train, X_test, y_train, y_test = train_test_split(X_scaled, y, test_size=0.3, random_state=42)\n",
    "\n",
    "# Train a RandomForestClassifier\n",
    "model = RandomForestClassifier(n_estimators=100, random_state=42)\n",
    "model.fit(X_train, y_train)\n",
    "\n",
    "# Make predictions\n",
    "y_pred = model.predict(X_test)\n",
    "\n",
    "#Feature importance\n",
    "importances = model.feature_importances_\n",
    "feature_names = X.columns\n",
    "feature_importance_df = pd.DataFrame({'Feature': feature_names, 'Importance': importances})\n",
    "feature_importance_df = feature_importance_df.sort_values(by='Importance', ascending=False)\n",
    "\n",
    "print(\"\\nTop factors contributing to employee departure:\")\n",
    "print(feature_importance_df.head(10))\n"
   ]
  },
  {
   "cell_type": "markdown",
   "id": "e4196a26-76f7-4526-80ea-0eac8bfe90ec",
   "metadata": {},
   "source": [
    "# Evaluate the model"
   ]
  },
  {
   "cell_type": "code",
   "execution_count": 14,
   "id": "53122b5b-38ef-4c12-a95a-a17c402278a6",
   "metadata": {},
   "outputs": [
    {
     "name": "stdout",
     "output_type": "stream",
     "text": [
      "Model Accuracy: 0.9150\n",
      "\n",
      "Classification Report:\n",
      "              precision    recall  f1-score   support\n",
      "\n",
      "           0       0.92      1.00      0.96     14550\n",
      "           1       0.00      0.00      0.00      1350\n",
      "\n",
      "    accuracy                           0.92     15900\n",
      "   macro avg       0.46      0.50      0.48     15900\n",
      "weighted avg       0.84      0.92      0.87     15900\n",
      "\n",
      "\n",
      "Confusion Matrix:\n",
      "[[14549     1]\n",
      " [ 1350     0]]\n"
     ]
    }
   ],
   "source": [
    "# Evaluate the model\n",
    "accuracy = accuracy_score(y_test, y_pred)\n",
    "print(f\"Model Accuracy: {accuracy:.4f}\")\n",
    "\n",
    "print(\"\\nClassification Report:\")\n",
    "print(classification_report(y_test, y_pred))\n",
    "\n",
    "print(\"\\nConfusion Matrix:\")\n",
    "print(confusion_matrix(y_test, y_pred))\n",
    "\n",
    "\n"
   ]
  },
  {
   "cell_type": "markdown",
   "id": "987f0277-5083-4287-890c-19661a92373a",
   "metadata": {},
   "source": [
    "# Save predictions and feature importance"
   ]
  },
  {
   "cell_type": "code",
   "execution_count": 16,
   "id": "45fb83f5-eecf-42df-928a-5863e1ed1ece",
   "metadata": {},
   "outputs": [
    {
     "name": "stdout",
     "output_type": "stream",
     "text": [
      "\n",
      "Predictions saved to 'Downloads/employee_churn_predictions.csv'.\n",
      "Feature importance saved to 'Downloads/feature_importance.csv'.\n"
     ]
    }
   ],
   "source": [
    "# Save predictions and feature importance\n",
    "output_file_predictions = 'Downloads/employee_churn_predictions.csv'\n",
    "output_file_importance = 'Downloads/feature_importance.csv'\n",
    "data['Predicted_Left'] = model.predict(X_scaled)  # Add predictions to the original data\n",
    "data.to_csv(output_file_predictions, index=False)\n",
    "feature_importance_df.to_csv(output_file_importance, index=False)\n",
    "\n",
    "print(f\"\\nPredictions saved to '{output_file_predictions}'.\")\n",
    "print(f\"Feature importance saved to '{output_file_importance}'.\")\n"
   ]
  },
  {
   "cell_type": "markdown",
   "id": "b1e77222-0d69-48f2-a23b-f20c56f036cd",
   "metadata": {},
   "source": [
    "# Visualization "
   ]
  },
  {
   "cell_type": "code",
   "execution_count": 17,
   "id": "c66307eb-df0d-4792-b5e3-a865f1e196d3",
   "metadata": {},
   "outputs": [
    {
     "data": {
      "image/png": "[encoded data removed]",
      "text/plain": [
       "<Figure size 800x600 with 2 Axes>"
      ]
     },
     "metadata": {},
     "output_type": "display_data"
    },
    {
     "data": {
      "image/png": "[encoded data removed]",
      "text/plain": [
       "<Figure size 1000x600 with 1 Axes>"
      ]
     },
     "metadata": {},
     "output_type": "display_data"
    }
   ],
   "source": [
    "import matplotlib.pyplot as plt\n",
    "import seaborn as sns\n",
    "import numpy as np\n",
    "\n",
    "# Function to plot confusion matrix\n",
    "def plot_confusion_matrix(cm, classes, title='Confusion Matrix'):\n",
    "    plt.figure(figsize=(8,6))\n",
    "    sns.heatmap(cm, annot=True, fmt='d', cmap='Blues', xticklabels=classes, yticklabels=classes)\n",
    "    plt.title(title)\n",
    "    plt.xlabel('Predicted')\n",
    "    plt.ylabel('Actual')\n",
    "    plt.show()\n",
    "\n",
    "# Confusion Matrix\n",
    "cm = confusion_matrix(y_test, y_pred)\n",
    "plot_confusion_matrix(cm, classes=['Stayed', 'Left'])\n",
    "\n",
    "# Plot Feature Importance\n",
    "plt.figure(figsize=(10,6))\n",
    "sns.barplot(x='Importance', y='Feature', data=feature_importance_df.head(10), palette='viridis')\n",
    "plt.title('Top 10 Factors Contributing to Employee Departure')\n",
    "plt.xlabel('Importance')\n",
    "plt.ylabel('Feature')\n",
    "plt.show()\n"
   ]
  },
  {
   "cell_type": "code",
   "execution_count": null,
   "id": "78ee0bb4-d396-429d-801d-300db6755e1e",
   "metadata": {},
   "outputs": [],
   "source": []
  }
 ],
 "metadata": {
  "kernelspec": {
   "display_name": "Python 3 (ipykernel)",
   "language": "python",
   "name": "python3"
  },
  "language_info": {
   "codemirror_mode": {
    "name": "ipython",
    "version": 3
   },
   "file_extension": ".py",
   "mimetype": "text/x-python",
   "name": "python",
   "nbconvert_exporter": "python",
   "pygments_lexer": "ipython3",
   "version": "3.11.5"
  },
  "widgets": {
   "application/vnd.jupyter.widget-state+json": {
    "state": {},
    "version_major": 2,
    "version_minor": 0
   }
  }
 },
 "nbformat": 4,
 "nbformat_minor": 5
}
